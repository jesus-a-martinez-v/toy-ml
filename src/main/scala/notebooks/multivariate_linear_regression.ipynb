{
 "cells": [
  {
   "cell_type": "markdown",
   "metadata": {},
   "source": [
    "# Multivariate Linear Regression"
   ]
  },
  {
   "cell_type": "code",
   "execution_count": 1,
   "metadata": {},
   "outputs": [
    {
     "data": {
      "text/plain": [
       "\u001b[32mimport \u001b[39m\u001b[36m$ivy.$                                      \n",
       "\u001b[39m\n",
       "\u001b[32mimport \u001b[39m\u001b[36m$file.$                                                 , SimpleLinearRegression._\n",
       "\u001b[39m\n",
       "\u001b[32mimport \u001b[39m\u001b[36mscala.util.Random\u001b[39m"
      ]
     },
     "execution_count": 1,
     "metadata": {},
     "output_type": "execute_result"
    }
   ],
   "source": [
    "import $ivy.`com.github.tototoshi::scala-csv:1.3.5`\n",
    "import $file.^.datasmarts.ml.toy.scripts.SimpleLinearRegression, SimpleLinearRegression._\n",
    "import scala.util.Random"
   ]
  },
  {
   "cell_type": "markdown",
   "metadata": {},
   "source": [
    "## Data\n",
    "\n",
    "In this occasion we will use the [Wine Quality Dataset](https://raw.githubusercontent.com/jesus-a-martinez-v/toy-ml/master/src/main/resources/data/8/winequality-white.csv). Let's load it:"
   ]
  },
  {
   "cell_type": "code",
   "execution_count": 4,
   "metadata": {},
   "outputs": [
    {
     "name": "stdout",
     "output_type": "stream",
     "text": [
      "Number of rows in dataset: 4898\n",
      "Number of columns in dataset: 12\n"
     ]
    },
    {
     "data": {
      "text/plain": [
       "\u001b[36mBASE_DATA_PATH\u001b[39m: \u001b[32mString\u001b[39m = \u001b[32m\"../../resources/data\"\u001b[39m\n",
       "\u001b[36mwineQualityDataPath\u001b[39m: \u001b[32mString\u001b[39m = \u001b[32m\"../../resources/data/8/winequality-white.csv\"\u001b[39m\n",
       "\u001b[36mrawData\u001b[39m: \u001b[32mVector\u001b[39m[\u001b[32mVector\u001b[39m[\u001b[32mData\u001b[39m]] = \u001b[33mVector\u001b[39m(\n",
       "  \u001b[33mVector\u001b[39m(\n",
       "    Text(7),\n",
       "    Text(0.27),\n",
       "    Text(0.36),\n",
       "    Text(20.7),\n",
       "    Text(0.045),\n",
       "    Text(45),\n",
       "    Text(170),\n",
       "    Text(1.001),\n",
       "    Text(3),\n",
       "    Text(0.45),\n",
       "\u001b[33m...\u001b[39m\n",
       "\u001b[36mnumberOfRows\u001b[39m: \u001b[32mInt\u001b[39m = \u001b[32m4898\u001b[39m\n",
       "\u001b[36mnumberOfColumns\u001b[39m: \u001b[32mInt\u001b[39m = \u001b[32m12\u001b[39m\n",
       "\u001b[36mdata\u001b[39m: \u001b[32mVector\u001b[39m[\u001b[32mVector\u001b[39m[\u001b[32mData\u001b[39m]] = \u001b[33mVector\u001b[39m(\n",
       "  \u001b[33mVector\u001b[39m(\n",
       "    Numeric(7.0),\n",
       "    Numeric(0.27),\n",
       "    Numeric(0.36),\n",
       "    Numeric(20.7),\n",
       "    Numeric(0.045),\n",
       "    Numeric(45.0),\n",
       "    Numeric(170.0),\n",
       "    Numeric(1.001),\n",
       "    Numeric(3.0),\n",
       "    Numeric(0.45),\n",
       "\u001b[33m...\u001b[39m"
      ]
     },
     "execution_count": 4,
     "metadata": {},
     "output_type": "execute_result"
    }
   ],
   "source": [
    "val BASE_DATA_PATH = \"../../resources/data\"\n",
    "val wineQualityDataPath = s\"$BASE_DATA_PATH/8/winequality-white.csv\"\n",
    "\n",
    "val rawData = loadCsv(wineQualityDataPath)\n",
    "val numberOfRows = rawData.length\n",
    "val numberOfColumns = rawData.head.length\n",
    "println(s\"Number of rows in dataset: $numberOfRows\")\n",
    "println(s\"Number of columns in dataset: $numberOfColumns\")\n",
    "\n",
    "val data = (0 until numberOfColumns).toVector.foldLeft(rawData) { (d, i) => textColumnToNumeric(d, i)}"
   ]
  },
  {
   "cell_type": "code",
   "execution_count": 5,
   "metadata": {},
   "outputs": [
    {
     "data": {
      "text/plain": [
       "defined \u001b[32mfunction\u001b[39m \u001b[36mupdatedVector\u001b[39m"
      ]
     },
     "execution_count": 5,
     "metadata": {},
     "output_type": "execute_result"
    }
   ],
   "source": [
    "def updatedVector[T](vector: Vector[T], newValue: T, index: Int): Vector[T] = {\n",
    "  val (firstHalf, secondHalf) = vector.splitAt(index)\n",
    "  firstHalf ++ Vector(newValue) ++ secondHalf.tail\n",
    "}"
   ]
  },
  {
   "cell_type": "code",
   "execution_count": 6,
   "metadata": {},
   "outputs": [
    {
     "data": {
      "text/plain": [
       "defined \u001b[32mfunction\u001b[39m \u001b[36mpredictLinearRegression\u001b[39m"
      ]
     },
     "execution_count": 6,
     "metadata": {},
     "output_type": "execute_result"
    }
   ],
   "source": [
    "def predictLinearRegression(row: Vector[Data], coefficients: Vector[Double]): Double = {\n",
    "  val indices = row.indices.init\n",
    "\n",
    "  indices.foldLeft(0.0) { (accumulator, index) =>\n",
    "    accumulator + coefficients(index + 1) * getNumericValue(row(index)).get\n",
    "  } + coefficients.head\n",
    "}"
   ]
  },
  {
   "cell_type": "code",
   "execution_count": 7,
   "metadata": {},
   "outputs": [
    {
     "data": {
      "text/plain": [
       "defined \u001b[32mfunction\u001b[39m \u001b[36mcoefficientsLinearRegressionSgd\u001b[39m"
      ]
     },
     "execution_count": 7,
     "metadata": {},
     "output_type": "execute_result"
    }
   ],
   "source": [
    "def coefficientsLinearRegressionSgd(train: Dataset, learningRate: Double, numberOfEpochs: Int) = {\n",
    "  var coefficients = Vector.fill(train.head.length)(0.0)\n",
    "\n",
    "  for {\n",
    "    _ <- 1 to numberOfEpochs\n",
    "    row <- train\n",
    "    predicted = predictLinearRegression(row, coefficients)\n",
    "    actual = getNumericValue(row.last).get\n",
    "    error = predicted - actual\n",
    "  } {\n",
    "    // TODO Bias?\n",
    "    val firstCoefficient = coefficients.head - learningRate * error\n",
    "    val indices = row.indices.init\n",
    "\n",
    "    val remainingCoefficients = indices.foldLeft(coefficients) { (c, index) =>\n",
    "      updatedVector(c, c(index + 1) - learningRate * error * getNumericValue(row(index)).get, index + 1)\n",
    "    }\n",
    "\n",
    "    coefficients = Vector(firstCoefficient) ++ remainingCoefficients\n",
    "  }\n",
    "\n",
    "  coefficients\n",
    "}"
   ]
  },
  {
   "cell_type": "code",
   "execution_count": 8,
   "metadata": {},
   "outputs": [
    {
     "data": {
      "text/plain": [
       "defined \u001b[32mfunction\u001b[39m \u001b[36mlinearRegressionSgd\u001b[39m"
      ]
     },
     "execution_count": 8,
     "metadata": {},
     "output_type": "execute_result"
    }
   ],
   "source": [
    "def linearRegressionSgd(train: Dataset, test: Dataset, parameters: Parameters) = {\n",
    "  val learningRate = parameters(\"learningRate\").asInstanceOf[Double]\n",
    "  val numberOfEpochs = parameters(\"numberOfEpochs\").asInstanceOf[Int]\n",
    "\n",
    "  val coefficients = coefficientsLinearRegressionSgd(train, learningRate, numberOfEpochs)\n",
    "\n",
    "  test.map { row =>\n",
    "    predictLinearRegression(row, coefficients)\n",
    "  }\n",
    "}"
   ]
  },
  {
   "cell_type": "code",
   "execution_count": null,
   "metadata": {},
   "outputs": [],
   "source": []
  }
 ],
 "metadata": {
  "kernelspec": {
   "display_name": "Scala",
   "language": "scala",
   "name": "scala"
  },
  "language_info": {
   "codemirror_mode": "text/x-scala",
   "file_extension": ".scala",
   "mimetype": "text/x-scala",
   "name": "scala211",
   "nbconvert_exporter": "script",
   "pygments_lexer": "scala",
   "version": "2.11.11"
  }
 },
 "nbformat": 4,
 "nbformat_minor": 2
}
