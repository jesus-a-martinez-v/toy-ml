{
 "cells": [
  {
   "cell_type": "markdown",
   "metadata": {},
   "source": [
    "# Multivariate Linear Regression"
   ]
  },
  {
   "cell_type": "code",
   "execution_count": 1,
   "metadata": {},
   "outputs": [
    {
     "name": "stdout",
     "output_type": "stream",
     "text": [
      "Compiling SimpleLinearRegression.sc\n"
     ]
    },
    {
     "data": {
      "text/plain": [
       "\u001b[32mimport \u001b[39m\u001b[36m$ivy.$                                      \n",
       "\u001b[39m\n",
       "\u001b[32mimport \u001b[39m\u001b[36m$file.$                                                 , SimpleLinearRegression._\n",
       "\u001b[39m\n",
       "\u001b[32mimport \u001b[39m\u001b[36mscala.util.Random\u001b[39m"
      ]
     },
     "execution_count": 1,
     "metadata": {},
     "output_type": "execute_result"
    }
   ],
   "source": [
    "import $ivy.`com.github.tototoshi::scala-csv:1.3.5`\n",
    "import $file.^.datasmarts.ml.toy.scripts.SimpleLinearRegression, SimpleLinearRegression._\n",
    "import scala.util.Random"
   ]
  },
  {
   "cell_type": "markdown",
   "metadata": {},
   "source": [
    "## Data\n",
    "\n",
    "In this occasion we will use the [Wine Quality Dataset](). Let's load it:"
   ]
  },
  {
   "cell_type": "code",
   "execution_count": 4,
   "metadata": {},
   "outputs": [
    {
     "ename": "",
     "evalue": "",
     "output_type": "error",
     "traceback": [
      "\u001b[31mcom.github.tototoshi.csv.MalformedCSVException: \"fixed acidity\";\"volatile acidity\";\"citric acid\";\"residual sugar\";\"chlorides\";\"free sulfur dioxide\";\"total sulfur dioxide\";\"density\";\"pH\";\"sulphates\";\"alcohol\";\"quality\"",
      "\u001b[39m",
      "  com.github.tototoshi.csv.CSVParser$.parse(\u001b[32mCSVParser.scala\u001b[39m:\u001b[32m235\u001b[39m)",
      "  com.github.tototoshi.csv.CSVParser.parseLine(\u001b[32mCSVParser.scala\u001b[39m:\u001b[32m303\u001b[39m)",
      "  com.github.tototoshi.csv.CSVReader.parseNext$1(\u001b[32mCSVReader.scala\u001b[39m:\u001b[32m42\u001b[39m)",
      "  com.github.tototoshi.csv.CSVReader.readNext(\u001b[32mCSVReader.scala\u001b[39m:\u001b[32m51\u001b[39m)",
      "  com.github.tototoshi.csv.CSVReader$$anonfun$toStream$1.apply(\u001b[32mCSVReader.scala\u001b[39m:\u001b[32m90\u001b[39m)",
      "  com.github.tototoshi.csv.CSVReader$$anonfun$toStream$1.apply(\u001b[32mCSVReader.scala\u001b[39m:\u001b[32m90\u001b[39m)",
      "  scala.collection.immutable.Stream$.continually(\u001b[32mStream.scala\u001b[39m:\u001b[32m1279\u001b[39m)",
      "  com.github.tototoshi.csv.CSVReader.toStream(\u001b[32mCSVReader.scala\u001b[39m:\u001b[32m90\u001b[39m)",
      "  $file.$up.datasmarts.ml.toy.scripts.$SimpleLinearRegressionWrapper$Helper.loadCsv(\u001b[32m/media/personal/ADATA HV100/Blog/toy-ml/src/main/scala/datasmarts/ml/toy/scripts/SimpleLinearRegression.sc\u001b[39m:\u001b[32m13\u001b[39m)",
      "  $sess.cmd3Wrapper$Helper.<init>(\u001b[32mcmd3.sc\u001b[39m:\u001b[32m4\u001b[39m)",
      "  $sess.cmd3Wrapper.<init>(\u001b[32mcmd3.sc\u001b[39m:\u001b[32m167\u001b[39m)",
      "  $sess.cmd3$.<init>(\u001b[32mcmd3.sc\u001b[39m:\u001b[32m128\u001b[39m)",
      "  $sess.cmd3$.<clinit>(\u001b[32mcmd3.sc\u001b[39m:\u001b[32m-1\u001b[39m)"
     ]
    }
   ],
   "source": [
    "val BASE_DATA_PATH = \"../../resources/data\"\n",
    "val wineQualityDataPath = s\"$BASE_DATA_PATH/8/winequality-white.csv\"\n",
    "\n",
    "implicit object MyFormat extends DefaultCSVFormat {\n",
    "  override val delimiter = ';'\n",
    "}\n",
    "\n",
    "val rawData = loadCsv(wineQualityDataPath)\n",
    "val numberOfRows = rawData.length\n",
    "val numberOfColumns = rawData.head.length\n",
    "println(s\"Number of rows in dataset: $numberOfRows\")\n",
    "println(s\"Number of columns in dataset: $numberOfColumns\")\n",
    "\n",
    "// val data = (0 until numberOfColumns).toVector.foldLeft(rawData) { (d, i) => textColumnToNumeric(d, i)}"
   ]
  },
  {
   "cell_type": "code",
   "execution_count": null,
   "metadata": {},
   "outputs": [],
   "source": []
  }
 ],
 "metadata": {
  "kernelspec": {
   "display_name": "Scala",
   "language": "scala",
   "name": "scala"
  },
  "language_info": {
   "codemirror_mode": "text/x-scala",
   "file_extension": ".scala",
   "mimetype": "text/x-scala",
   "name": "scala211",
   "nbconvert_exporter": "script",
   "pygments_lexer": "scala",
   "version": "2.11.11"
  }
 },
 "nbformat": 4,
 "nbformat_minor": 2
}
