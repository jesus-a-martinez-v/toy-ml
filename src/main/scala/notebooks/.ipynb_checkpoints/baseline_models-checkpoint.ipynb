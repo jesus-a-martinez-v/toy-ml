{
 "cells": [
  {
   "cell_type": "markdown",
   "metadata": {},
   "source": [
    "# Baseline Models\n",
    "\n",
    "In the last two notebooks we have been exploring several ways to determine the performance of an algorithm. We've learned that there are a huge variety of evaluation metrics to choose from. We have also looked at specific algorithm evaluation techniques such as train-test split and K-Fold cross-validation. \n",
    "\n",
    "This is all fine and dandy, but against _what_ do we compare our models? How do we know whether the predictions of an algorithm are good or not? \n",
    "\n",
    "Enter __baseline models__!\n",
    "\n",
    "A baseline model is algorithm that provides a set of predictions based on some heristic. Some of these heuristic might be more clever and sofisticated than others. Today we'll explore two of the most popular baseline prediction algorithms: \n",
    "\n",
    "    - Random Prediction Algorithm.\n",
    "    - Zero Rule Algorithm.\n",
    "\n",
    "Let's start our implementation by loading the code and libraries we'll need. We will build our solution on top of the ones we implemented in the [previous notebook](https://github.com/jesus-a-martinez-v/toy-ml/blob/master/src/main/scala/notebooks/evaluation_metrics.ipynb)."
   ]
  },
  {
   "cell_type": "code",
   "execution_count": 1,
   "metadata": {},
   "outputs": [
    {
     "data": {
      "text/plain": [
       "\u001b[32mimport \u001b[39m\u001b[36m$ivy.$                                      \n",
       "\u001b[39m\n",
       "\u001b[32mimport \u001b[39m\u001b[36m$file.$                                            , EvaluationMetrics._\n",
       "\u001b[39m\n",
       "\u001b[32mimport \u001b[39m\u001b[36mscala.util.Random\u001b[39m"
      ]
     },
     "execution_count": 1,
     "metadata": {},
     "output_type": "execute_result"
    }
   ],
   "source": [
    "import $ivy.`com.github.tototoshi::scala-csv:1.3.5`\n",
    "import $file.^.datasmarts.ml.toy.scripts.EvaluationMetrics, EvaluationMetrics._\n",
    "import scala.util.Random"
   ]
  },
  {
   "cell_type": "markdown",
   "metadata": {},
   "source": [
    "### Data\n",
    "\n",
    "#### Classification\n",
    "\n",
    "For our classification tasks we will use the following __training__ set:\n",
    "\n",
    "| X1 | X2 | Y |\n",
    "|----|----|---|\n",
    "| A  | 44 | 0 |\n",
    "| Z  | 12 | 0 |\n",
    "| Q  | 28 | 1 |\n",
    "| E  | 81 | 0 |\n",
    "| F  | 72 | 0 |\n",
    "| S  | 33 | 0 |\n",
    "| O  | 29 | 1 |\n",
    "| N  | 47 | 0 |\n",
    "| J  | 73 | 1 |\n",
    "| Q  | 57 | 1 |\n",
    "\n",
    "And this __test__ set:\n",
    "\n",
    "| X1 | X2 | Y |\n",
    "|----|----|---|\n",
    "| P  | 42 | 1 |\n",
    "| L  | 14 | 1 |\n",
    "| O  | 5  | 1 |\n",
    "| M  | 9  | 0 |\n",
    "\n",
    "#### Regression\n",
    "\n",
    "For regression, these are our __training__ and __test__ sets, respectively:\n",
    "\n",
    "| X1          | X2      | X3   | Y      |\n",
    "|-------------|---------|------|--------|\n",
    "| vKSOgzRyjU  | 4214805 | 1102 | -2.900 |\n",
    "| sOgdNGRhHz  | 141328  | 1521 | 3.340  |\n",
    "| OuijvSyrrsU | 513968  | 1403 | 2.640  |\n",
    "| MygFUrQnfDD | 15420   | 822  | 9.000  |\n",
    "| DKKmnTUAqw  | 19665   | 636  | 6.560  |\n",
    "| VjKXLhttIx  | 11818   | 82   | -5.380 |\n",
    "| cqYuHvAlaf  | 19293   | 688  | 2.740  |\n",
    "| rINbXLITsj  | 23911   | 486  | -3.030 |\n",
    "| psELWcZXsI  | 13358   | 140  | 4.460  |\n",
    "| HWmQYkKpzt  | 19294   | 161  | 4.460 |\n",
    "\n",
    "| X1          | X2      | X3   | Y      |\n",
    "|-------------|---------|------|--------|\n",
    "| vKSqwexzRyjU  | 4805 | 1106 | -3.140 |\n",
    "| sOgqwNGRhHz  | 1138  | 1478 | 3.009  |\n",
    "| OuijvSyrrsU | 139  | 786 | 1.715  |\n",
    "| rINbXLITsj  | 231   | 980  | -4.220 |\n",
    "| psEL23cZXsI  | 358   | 4543  | 4.180  |\n",
    "| HWmQ12Kpzt  | 924   | 235  | 9.99  |"
   ]
  },
  {
   "cell_type": "code",
   "execution_count": 2,
   "metadata": {},
   "outputs": [
    {
     "data": {
      "text/plain": [
       "\u001b[36mmockClassificationTrainingSet\u001b[39m: \u001b[32mDataset\u001b[39m = \u001b[33mVector\u001b[39m(\n",
       "  \u001b[33mVector\u001b[39m(Text(A), Numeric(44.0), Numeric(0.0)),\n",
       "  \u001b[33mVector\u001b[39m(Text(Z), Numeric(12.0), Numeric(0.0)),\n",
       "  \u001b[33mVector\u001b[39m(Text(Q), Numeric(28.0), Numeric(1.0)),\n",
       "  \u001b[33mVector\u001b[39m(Text(E), Numeric(81.0), Numeric(0.0)),\n",
       "  \u001b[33mVector\u001b[39m(Text(F), Numeric(72.0), Numeric(0.0)),\n",
       "  \u001b[33mVector\u001b[39m(Text(S), Numeric(33.0), Numeric(0.0)),\n",
       "  \u001b[33mVector\u001b[39m(Text(O), Numeric(29.0), Numeric(1.0)),\n",
       "  \u001b[33mVector\u001b[39m(Text(N), Numeric(47.0), Numeric(0.0)),\n",
       "  \u001b[33mVector\u001b[39m(Text(J), Numeric(73.0), Numeric(1.0)),\n",
       "  \u001b[33mVector\u001b[39m(Text(Q), Numeric(57.0), Numeric(1.0))\n",
       ")\n",
       "\u001b[36mmockClassificationTestSet\u001b[39m: \u001b[32mDataset\u001b[39m = \u001b[33mVector\u001b[39m(\n",
       "  \u001b[33mVector\u001b[39m(Text(P), Numeric(42.0), Numeric(1.0)),\n",
       "  \u001b[33mVector\u001b[39m(Text(L), Numeric(14.0), Numeric(1.0)),\n",
       "  \u001b[33mVector\u001b[39m(Text(O), Numeric(5.0), Numeric(1.0)),\n",
       "  \u001b[33mVector\u001b[39m(Text(M), Numeric(9.0), Numeric(0.0))\n",
       ")\n",
       "\u001b[36mmockRegressionTrainingSet\u001b[39m: \u001b[32mDataset\u001b[39m = \u001b[33mVector\u001b[39m(\n",
       "  \u001b[33mVector\u001b[39m(Text(vKSOgzRyjU), Numeric(4214805.0), Numeric(1102.0), Numeric(-2.9)),\n",
       "  \u001b[33mVector\u001b[39m(Text(sOgdNGRhHz), Numeric(141328.0), Numeric(1521.0), Numeric(3.34)),\n",
       "  \u001b[33mVector\u001b[39m(Text(OuijvSyrrsU), Numeric(513968.0), Numeric(1403.0), Numeric(2.64)),\n",
       "  \u001b[33mVector\u001b[39m(Text(MygFUrQnfDD), Numeric(15420.0), Numeric(822.0), Numeric(9.0)),\n",
       "  \u001b[33mVector\u001b[39m(Text(DKKmnTUAqw), Numeric(19665.0), Numeric(636.0), Numeric(6.56)),\n",
       "  \u001b[33mVector\u001b[39m(Text(VjKXLhttIx), Numeric(11818.0), Numeric(82.0), Numeric(-5.38)),\n",
       "  \u001b[33mVector\u001b[39m(Text(cqYuHvAlaf), Numeric(19293.0), Numeric(688.0), Numeric(2.74)),\n",
       "  \u001b[33mVector\u001b[39m(Text(rINbXLITsj), Numeric(23911.0), Numeric(486.0), Numeric(-3.03)),\n",
       "  \u001b[33mVector\u001b[39m(Text(psELWcZXsI), Numeric(13358.0), Numeric(140.0), Numeric(4.46)),\n",
       "  \u001b[33mVector\u001b[39m(Text(HWmQYkKpzt), Numeric(19294.0), Numeric(161.0), Numeric(4.46))\n",
       ")\n",
       "\u001b[36mmockRegressionTestSet\u001b[39m: \u001b[32mDataset\u001b[39m = \u001b[33mVector\u001b[39m(\n",
       "  \u001b[33mVector\u001b[39m(Text(vKSqwexzRyjU), Numeric(4805.0), Numeric(1106.0), Numeric(-3.14)),\n",
       "  \u001b[33mVector\u001b[39m(Text(sOgqwNGRhHz), Numeric(1138.0), Numeric(1478.0), Numeric(3.009)),\n",
       "  \u001b[33mVector\u001b[39m(Text(OuijvSyrrsU), Numeric(139.0), Numeric(786.0), Numeric(1.715)),\n",
       "  \u001b[33mVector\u001b[39m(Text(rINbXLITsj), Numeric(231.0), Numeric(980.0), Numeric(-4.22)),\n",
       "  \u001b[33mVector\u001b[39m(Text(psEL23cZXsI), Numeric(358.0), Numeric(4543.0), Numeric(4.18)),\n",
       "  \u001b[33mVector\u001b[39m(Text(HWmQ12Kpzt), Numeric(924.0), Numeric(235.0), Numeric(9.99))\n",
       ")"
      ]
     },
     "execution_count": 2,
     "metadata": {},
     "output_type": "execute_result"
    }
   ],
   "source": [
    "val mockClassificationTrainingSet: Dataset = Vector(\n",
    "    (\"A\",44, 0),\n",
    "    (\"Z\", 12, 0),\n",
    "    (\"Q\", 28, 1),\n",
    "    (\"E\", 81, 0),\n",
    "    (\"F\", 72, 0),\n",
    "    (\"S\", 33, 0),\n",
    "    (\"O\", 29, 1),\n",
    "    (\"N\", 47, 0),\n",
    "    (\"J\", 73, 1),\n",
    "    (\"Q\", 57, 1))\n",
    ".map { case (x1, x2, y) => Vector(Text(x1), Numeric(x2), Numeric(y)) }\n",
    "\n",
    "val mockClassificationTestSet: Dataset = Vector(\n",
    "    (\"P\", 42, 1),\n",
    "    (\"L\", 14, 1),\n",
    "    (\"O\", 5, 1),\n",
    "    (\"M\", 9, 0)\n",
    ").map { case (x1, x2, y) => Vector(Text(x1), Numeric(x2), Numeric(y)) }\n",
    "\n",
    "val mockRegressionTrainingSet: Dataset = Vector(\n",
    "    (\"vKSOgzRyjU\", 4214805, 1102, -2.900),\n",
    "    (\"sOgdNGRhHz\", 141328, 1521, 3.340),\n",
    "    (\"OuijvSyrrsU\", 513968, 1403, 2.640),\n",
    "    (\"MygFUrQnfDD\", 15420, 822, 9.000),\n",
    "    (\"DKKmnTUAqw\", 19665, 636, 6.560),\n",
    "    (\"VjKXLhttIx\", 11818, 82, -5.380),\n",
    "    (\"cqYuHvAlaf\", 19293, 688, 2.740),\n",
    "    (\"rINbXLITsj\", 23911, 486, -3.030),\n",
    "    (\"psELWcZXsI\", 13358, 140, 4.460),\n",
    "    (\"HWmQYkKpzt\", 19294, 161, 4.460)\n",
    ").map { \n",
    "    case (x1, x2, x3, y) => Vector(Text(x1), Numeric(x2), Numeric(x3), Numeric(y)) \n",
    "}\n",
    "\n",
    "val mockRegressionTestSet: Dataset = Vector(\n",
    "    (\"vKSqwexzRyjU\", 4805, 1106, -3.140),\n",
    "    (\"sOgqwNGRhHz\", 1138, 1478, 3.009),\n",
    "    (\"OuijvSyrrsU\", 139, 786, 1.715),\n",
    "    (\"rINbXLITsj\", 231, 980, -4.220),\n",
    "    (\"psEL23cZXsI\", 358, 4543, 4.180),\n",
    "    (\"HWmQ12Kpzt\", 924, 235, 9.99)).map { \n",
    "    case (x1, x2, x3, y) => Vector(Text(x1), Numeric(x2), Numeric(x3), Numeric(y)) \n",
    "}"
   ]
  },
  {
   "cell_type": "markdown",
   "metadata": {},
   "source": [
    "## Random Prediction Algorithm\n",
    "\n",
    "This is one of the simplest baseline models. It works as follows:\n",
    "\n",
    "__Training phase__:\n",
    "\n",
    "    1. Select label column.\n",
    "    2. Keep only unique values.\n",
    "    \n",
    "__Prediction phase__:\n",
    "\n",
    "For each row in the test set, select a random label from the unique label set collected in the training phase.\n",
    "\n",
    "Of course, it works with both classification and regression tasks.\n",
    "\n",
    "Let's proceed to implement it (_**NOTE**_: We assume the last column in each dataset corresponds to the labels_)"
   ]
  },
  {
   "cell_type": "code",
   "execution_count": 3,
   "metadata": {},
   "outputs": [
    {
     "data": {
      "text/plain": [
       "defined \u001b[32mfunction\u001b[39m \u001b[36mselectColumn\u001b[39m\n",
       "defined \u001b[32mfunction\u001b[39m \u001b[36mrandomAlgorithm\u001b[39m"
      ]
     },
     "execution_count": 3,
     "metadata": {},
     "output_type": "execute_result"
    }
   ],
   "source": [
    "// Handy helper function to select a particular column in a dataset. We'll use it in all of our implementations.\n",
    "def selectColumn(dataset: Dataset, index: Int): Vector[Data] = {\n",
    "  dataset.map(_(index))\n",
    "}\n",
    "\n",
    "def randomAlgorithm(train: Dataset, test: Dataset, seed: Int = 42): Vector[Data] = {\n",
    "  val random = new Random(seed)\n",
    "\n",
    "  val outputColumn = selectColumn(train, train.head.length - 1)\n",
    "  val uniqueOutputs = outputColumn.distinct\n",
    "  val numberOfUniqueOutputs = uniqueOutputs.length\n",
    "\n",
    "  test.map { row =>\n",
    "    val randomIndex = random.nextInt(numberOfUniqueOutputs)\n",
    "\n",
    "    uniqueOutputs(randomIndex)\n",
    "  }\n",
    "}"
   ]
  },
  {
   "cell_type": "markdown",
   "metadata": {},
   "source": [
    "Let's now test our implementation with our mock dataset:"
   ]
  },
  {
   "cell_type": "code",
   "execution_count": 4,
   "metadata": {},
   "outputs": [
    {
     "data": {
      "text/plain": [
       "\u001b[36mres3\u001b[39m: \u001b[32mVector\u001b[39m[\u001b[32mData\u001b[39m] = \u001b[33mVector\u001b[39m(Numeric(1.0), Numeric(0.0), Numeric(1.0), Numeric(0.0))"
      ]
     },
     "execution_count": 4,
     "metadata": {},
     "output_type": "execute_result"
    }
   ],
   "source": [
    "randomAlgorithm(mockClassificationTrainingSet, mockClassificationTestSet)"
   ]
  },
  {
   "cell_type": "markdown",
   "metadata": {},
   "source": [
    "As we can see, we pass a seed to our algorithm in order to aim reproducibility. By default, we use 42 (after all, it is the [Answer to the Ultimate Question of Life, the Universe, and Everything](https://simple.wikipedia.org/wiki/42_(answer) ;))\n",
    "\n",
    "The predictions correspond to random selections over unique labels in the training set (In this case, 1 and 0)"
   ]
  },
  {
   "cell_type": "markdown",
   "metadata": {},
   "source": [
    "## Zero Rule Algorithm\n",
    "\n",
    "Unlike Random Algorithm, Zero Rule Algorithm displays a slightly different behavior depending on the type of the predictor being trained:\n",
    "\n",
    "__ Training phase__:\n",
    "    \n",
    "    \n",
    "   * _Classifier_: It determines the label with the highest frecuency (mode).\n",
    "   * _Regressor_: It calculates a measure of central tendency, such as the mean, mode or median. Usually the mean value is used.\n",
    "    \n",
    "__Prediction phase__:\n",
    "\n",
    "   * _Classifier_: Returns the model for every row in the test set.\n",
    "   * _Regressor_: Returns the measure of central tendency calculated in the training phase for each measure row in the dataset."
   ]
  },
  {
   "cell_type": "markdown",
   "metadata": {},
   "source": [
    "Let's start by implementing a Zero Rule Algorithm for classification:"
   ]
  },
  {
   "cell_type": "code",
   "execution_count": 5,
   "metadata": {},
   "outputs": [
    {
     "data": {
      "text/plain": [
       "defined \u001b[32mfunction\u001b[39m \u001b[36mzeroRuleClassifier\u001b[39m"
      ]
     },
     "execution_count": 5,
     "metadata": {},
     "output_type": "execute_result"
    }
   ],
   "source": [
    "def zeroRuleClassifier(train: Dataset, test: Dataset): Vector[Data] = {\n",
    "  val outputColumn = selectColumn(train, train.head.length - 1)\n",
    "\n",
    "  val mode = outputColumn.groupBy(identity).maxBy(_._2.length)._1\n",
    "\n",
    "  test.map(row => mode)\n",
    "}"
   ]
  },
  {
   "cell_type": "markdown",
   "metadata": {},
   "source": [
    "Cool. Let's test it with our mock dataset:"
   ]
  },
  {
   "cell_type": "code",
   "execution_count": 6,
   "metadata": {},
   "outputs": [
    {
     "data": {
      "text/plain": [
       "\u001b[36mres5\u001b[39m: \u001b[32mVector\u001b[39m[\u001b[32mData\u001b[39m] = \u001b[33mVector\u001b[39m(Numeric(0.0), Numeric(0.0), Numeric(0.0), Numeric(0.0))"
      ]
     },
     "execution_count": 6,
     "metadata": {},
     "output_type": "execute_result"
    }
   ],
   "source": [
    "zeroRuleClassifier(mockClassificationTrainingSet, mockClassificationTestSet)"
   ]
  },
  {
   "cell_type": "markdown",
   "metadata": {},
   "source": [
    "It works! Excellent! As we can see, the predicted class for every example in the test set is 0, as it is the most frequent label in the training set.\n",
    "\n",
    "Let's now proceed to implement a Zero Rule Regressor:"
   ]
  },
  {
   "cell_type": "code",
   "execution_count": 7,
   "metadata": {},
   "outputs": [
    {
     "data": {
      "text/plain": [
       "defined \u001b[32mtrait\u001b[39m \u001b[36mMeasure\u001b[39m\n",
       "defined \u001b[32mobject\u001b[39m \u001b[36mMean\u001b[39m\n",
       "defined \u001b[32mobject\u001b[39m \u001b[36mMode\u001b[39m\n",
       "defined \u001b[32mobject\u001b[39m \u001b[36mMedian\u001b[39m\n",
       "defined \u001b[32mfunction\u001b[39m \u001b[36mzeroRuleRegressor\u001b[39m"
      ]
     },
     "execution_count": 7,
     "metadata": {},
     "output_type": "execute_result"
    }
   ],
   "source": [
    "// Used for typesafe selection of the central measure of tendency used in the zero rule algorithm\n",
    "sealed trait Measure\n",
    "case object Mean extends Measure\n",
    "case object Mode extends Measure\n",
    "case object Median extends Measure\n",
    "\n",
    "def zeroRuleRegressor(train: Dataset, test: Dataset, measure: Measure = Mean): Vector[Data] = {\n",
    "  def calculateMean(labels: Vector[Data]) = Numeric {\n",
    "    val sum = labels.foldLeft(0.0) { \n",
    "        (accum, numericValue) => accum + getNumericValue(numericValue).get \n",
    "    }\n",
    "\n",
    "    sum / labels.length\n",
    "  }\n",
    "\n",
    "  def calculateMedian(labels: Vector[Data]) = {\n",
    "    val sortedLabels = labels.sortBy(getNumericValue(_).get)\n",
    "    val evenNumberOfLabels = labels.length % 2 == 0\n",
    "\n",
    "    if (evenNumberOfLabels) {\n",
    "      val splitIndex = labels.length / 2\n",
    "\n",
    "      Numeric {\n",
    "        val firstCentricValue = getNumericValue(sortedLabels(splitIndex - 1)).get\n",
    "        val secondCentricValue = getNumericValue(sortedLabels(splitIndex)).get\n",
    "         (firstCentricValue + secondCentricValue) /  2\n",
    "      }\n",
    "    } else {\n",
    "      val medianIndex = labels.length / 2\n",
    "      sortedLabels(medianIndex)\n",
    "    }\n",
    "  }\n",
    "\n",
    "  def calculateMode(labels: Vector[Data]) = {\n",
    "    labels.groupBy(identity).maxBy(_._2.length)._1\n",
    "  }\n",
    "\n",
    "  val outputColumn = selectColumn(train, train.head.length - 1)\n",
    "\n",
    "  val measureValue = measure match {\n",
    "    case Mean => calculateMean(outputColumn)\n",
    "    case Mode => calculateMode(outputColumn)\n",
    "    case Median => calculateMedian(outputColumn)\n",
    "  }\n",
    "\n",
    "  test.map(row => measureValue)\n",
    "}"
   ]
  },
  {
   "cell_type": "markdown",
   "metadata": {},
   "source": [
    "We just implemented a flexible Zero Rule Regressor that's capable of working with the mode, median or mean. Let's test it on the mocking dataset using each measure, starting with the mode:"
   ]
  },
  {
   "cell_type": "code",
   "execution_count": 8,
   "metadata": {},
   "outputs": [
    {
     "data": {
      "text/plain": [
       "\u001b[36mres7_0\u001b[39m: \u001b[32mVector\u001b[39m[\u001b[32mData\u001b[39m] = \u001b[33mVector\u001b[39m(\n",
       "  Numeric(4.46),\n",
       "  Numeric(4.46),\n",
       "  Numeric(4.46),\n",
       "  Numeric(4.46),\n",
       "  Numeric(4.46),\n",
       "  Numeric(4.46)\n",
       ")\n",
       "\u001b[36mres7_1\u001b[39m: \u001b[32mVector\u001b[39m[\u001b[32mData\u001b[39m] = \u001b[33mVector\u001b[39m(\n",
       "  Numeric(3.04),\n",
       "  Numeric(3.04),\n",
       "  Numeric(3.04),\n",
       "  Numeric(3.04),\n",
       "  Numeric(3.04),\n",
       "  Numeric(3.04)\n",
       ")\n",
       "\u001b[36mres7_2\u001b[39m: \u001b[32mVector\u001b[39m[\u001b[32mData\u001b[39m] = \u001b[33mVector\u001b[39m(\n",
       "  Numeric(2.189),\n",
       "  Numeric(2.189),\n",
       "  Numeric(2.189),\n",
       "  Numeric(2.189),\n",
       "  Numeric(2.189),\n",
       "  Numeric(2.189)\n",
       ")"
      ]
     },
     "execution_count": 8,
     "metadata": {},
     "output_type": "execute_result"
    }
   ],
   "source": [
    "zeroRuleRegressor(mockRegressionTrainingSet, mockRegressionTestSet, Mode)"
   ]
  },
  {
   "cell_type": "markdown",
   "metadata": {},
   "source": [
    "Good. It works as 4.460 is, in fact, the most frequent label in the mock test dataset. Let's now proceed test our zero rule regressor using the median: "
   ]
  },
  {
   "cell_type": "code",
   "execution_count": 9,
   "metadata": {},
   "outputs": [
    {
     "data": {
      "text/plain": [
       "\u001b[36mres8\u001b[39m: \u001b[32mVector\u001b[39m[\u001b[32mData\u001b[39m] = \u001b[33mVector\u001b[39m(\n",
       "  Numeric(3.04),\n",
       "  Numeric(3.04),\n",
       "  Numeric(3.04),\n",
       "  Numeric(3.04),\n",
       "  Numeric(3.04),\n",
       "  Numeric(3.04)\n",
       ")"
      ]
     },
     "execution_count": 9,
     "metadata": {},
     "output_type": "execute_result"
    }
   ],
   "source": [
    "zeroRuleRegressor(mockRegressionTrainingSet, mockRegressionTestSet, Median)"
   ]
  },
  {
   "cell_type": "markdown",
   "metadata": {},
   "source": [
    "Given our training dataset has an even number of elements, our median is actually the mean of the two values located at the center of the training set. Let's remove one row of the training set and see if it still works (it should return a single value in the center of the training set):"
   ]
  },
  {
   "cell_type": "code",
   "execution_count": 10,
   "metadata": {},
   "outputs": [
    {
     "data": {
      "text/plain": [
       "\u001b[36mres9\u001b[39m: \u001b[32mVector\u001b[39m[\u001b[32mData\u001b[39m] = \u001b[33mVector\u001b[39m(\n",
       "  Numeric(2.74),\n",
       "  Numeric(2.74),\n",
       "  Numeric(2.74),\n",
       "  Numeric(2.74),\n",
       "  Numeric(2.74),\n",
       "  Numeric(2.74)\n",
       ")"
      ]
     },
     "execution_count": 10,
     "metadata": {},
     "output_type": "execute_result"
    }
   ],
   "source": [
    "zeroRuleRegressor(mockRegressionTrainingSet.init, mockRegressionTestSet, Median)"
   ]
  },
  {
   "cell_type": "markdown",
   "metadata": {},
   "source": [
    "Cool, it works. Now, let's finally test it using the mean:"
   ]
  },
  {
   "cell_type": "code",
   "execution_count": 11,
   "metadata": {},
   "outputs": [
    {
     "data": {
      "text/plain": [
       "\u001b[36mres10\u001b[39m: \u001b[32mVector\u001b[39m[\u001b[32mData\u001b[39m] = \u001b[33mVector\u001b[39m(\n",
       "  Numeric(2.189),\n",
       "  Numeric(2.189),\n",
       "  Numeric(2.189),\n",
       "  Numeric(2.189),\n",
       "  Numeric(2.189),\n",
       "  Numeric(2.189)\n",
       ")"
      ]
     },
     "execution_count": 11,
     "metadata": {},
     "output_type": "execute_result"
    }
   ],
   "source": [
    "zeroRuleRegressor(mockRegressionTrainingSet, mockRegressionTestSet, Mean)"
   ]
  },
  {
   "cell_type": "markdown",
   "metadata": {},
   "source": [
    "Yep. That's actually the mean ;)"
   ]
  }
 ],
 "metadata": {
  "kernelspec": {
   "display_name": "Scala",
   "language": "scala",
   "name": "scala"
  },
  "language_info": {
   "codemirror_mode": "text/x-scala",
   "file_extension": ".scala",
   "mimetype": "text/x-scala",
   "name": "scala211",
   "nbconvert_exporter": "script",
   "pygments_lexer": "scala",
   "version": "2.11.11"
  }
 },
 "nbformat": 4,
 "nbformat_minor": 2
}
