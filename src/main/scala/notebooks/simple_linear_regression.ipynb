{
 "cells": [
  {
   "cell_type": "markdown",
   "metadata": {},
   "source": [
    "# Simple Linear Regression\n",
    "\n",
    "Linear regression is one (if not) the simplest machine learning algorithms. As it names clearly states, it assumes a linear relationship between the input variables, X, and the output variable Y.\n",
    "\n",
    "When we only have one input variable, the algorithm is known as __Simple Linear Regression__. Otherwise, it is known as __Multivariate Linear Regression__.\n",
    "\n",
    "Let's start by examining the linear regression model equation:\n",
    "\n",
    "$$ y = b0 + b1x $$\n",
    "\n",
    "Here $b0$ and $b1$ are the parameters we must estimate from our training data.\n",
    "\n",
    "Once the coefficients have been determined, we can use this equation to make predictions on new data.\n",
    "\n",
    "How can we estimate these coefficients? Using the following formulas: \n",
    "\n",
    "$$ b1 = \\frac{\\sum_{i=1}^{N}[(x_i-mean(x))(y_i-mean(y))]}{\\sum_{i=1}^{N} (x_i-mean(x))^2}$$\n",
    "\n",
    "$$ b0 = mean(y)-b1mean(x) $$\n",
    "\n",
    "$ b1 $ formula can also be expressed as:\n",
    "\n",
    "$$ b1 = \\frac{covariance(x, y)}{variance(x)}$$\n",
    "\n",
    "\n",
    "\n",
    "Let's start our implementation by loading the code and libraries we'll need. We will build our solution on top of the ones we implemented in the [previous notebook](https://github.com/jesus-a-martinez-v/toy-ml/blob/master/src/main/scala/notebooks/algorithm_test_harnesses.ipynb)."
   ]
  },
  {
   "cell_type": "code",
   "execution_count": 1,
   "metadata": {},
   "outputs": [
    {
     "data": {
      "text/plain": [
       "\u001b[32mimport \u001b[39m\u001b[36m$ivy.$                                      \n",
       "\u001b[39m\n",
       "\u001b[32mimport \u001b[39m\u001b[36m$file.$                                               , AlgorithmTestHarness._\n",
       "\u001b[39m\n",
       "\u001b[32mimport \u001b[39m\u001b[36mscala.util.Random\u001b[39m"
      ]
     },
     "execution_count": 1,
     "metadata": {},
     "output_type": "execute_result"
    }
   ],
   "source": [
    "import $ivy.`com.github.tototoshi::scala-csv:1.3.5`\n",
    "import $file.^.datasmarts.ml.toy.scripts.AlgorithmTestHarness, AlgorithmTestHarness._\n",
    "import scala.util.Random"
   ]
  },
  {
   "cell_type": "markdown",
   "metadata": {},
   "source": [
    "## Data\n",
    "\n",
    "This time we'll use the [Swedish Auto Insurance Dataset](http://college.cengage.com/mathematics/brase/understandable_statistics/7e/students/datasets/slr/frames/slr06.html). Let's load it:"
   ]
  },
  {
   "cell_type": "code",
   "execution_count": 2,
   "metadata": {},
   "outputs": [
    {
     "name": "stdout",
     "output_type": "stream",
     "text": [
      "Number of rows in dataset: 63\n",
      "Number of columns in dataset: 2\n"
     ]
    },
    {
     "data": {
      "text/plain": [
       "\u001b[36mBASE_DATA_PATH\u001b[39m: \u001b[32mString\u001b[39m = \u001b[32m\"../../resources/data\"\u001b[39m\n",
       "\u001b[36mswedishDataPath\u001b[39m: \u001b[32mString\u001b[39m = \u001b[32m\"../../resources/data/7/swedish.csv\"\u001b[39m\n",
       "\u001b[36mrawData\u001b[39m: \u001b[32mVector\u001b[39m[\u001b[32mVector\u001b[39m[\u001b[32mData\u001b[39m]] = \u001b[33mVector\u001b[39m(\n",
       "  \u001b[33mVector\u001b[39m(Text(108), Text(392.5)),\n",
       "  \u001b[33mVector\u001b[39m(Text(19), Text(46.2)),\n",
       "  \u001b[33mVector\u001b[39m(Text(13), Text(15.7)),\n",
       "  \u001b[33mVector\u001b[39m(Text(124), Text(422.2)),\n",
       "  \u001b[33mVector\u001b[39m(Text(40), Text(119.4)),\n",
       "  \u001b[33mVector\u001b[39m(Text(57), Text(170.9)),\n",
       "  \u001b[33mVector\u001b[39m(Text(23), Text(56.9)),\n",
       "  \u001b[33mVector\u001b[39m(Text(14), Text(77.5)),\n",
       "  \u001b[33mVector\u001b[39m(Text(45), Text(214)),\n",
       "  \u001b[33mVector\u001b[39m(Text(10), Text(65.3)),\n",
       "  \u001b[33mVector\u001b[39m(Text(5), Text(20.9)),\n",
       "\u001b[33m...\u001b[39m\n",
       "\u001b[36mnumberOfRows\u001b[39m: \u001b[32mInt\u001b[39m = \u001b[32m63\u001b[39m\n",
       "\u001b[36mnumberOfColumns\u001b[39m: \u001b[32mInt\u001b[39m = \u001b[32m2\u001b[39m\n",
       "\u001b[36mdata\u001b[39m: \u001b[32mVector\u001b[39m[\u001b[32mVector\u001b[39m[\u001b[32mData\u001b[39m]] = \u001b[33mVector\u001b[39m(\n",
       "  \u001b[33mVector\u001b[39m(Numeric(108.0), Numeric(392.5)),\n",
       "  \u001b[33mVector\u001b[39m(Numeric(19.0), Numeric(46.2)),\n",
       "  \u001b[33mVector\u001b[39m(Numeric(13.0), Numeric(15.7)),\n",
       "  \u001b[33mVector\u001b[39m(Numeric(124.0), Numeric(422.2)),\n",
       "  \u001b[33mVector\u001b[39m(Numeric(40.0), Numeric(119.4)),\n",
       "  \u001b[33mVector\u001b[39m(Numeric(57.0), Numeric(170.9)),\n",
       "  \u001b[33mVector\u001b[39m(Numeric(23.0), Numeric(56.9)),\n",
       "  \u001b[33mVector\u001b[39m(Numeric(14.0), Numeric(77.5)),\n",
       "  \u001b[33mVector\u001b[39m(Numeric(45.0), Numeric(214.0)),\n",
       "  \u001b[33mVector\u001b[39m(Numeric(10.0), Numeric(65.3)),\n",
       "  \u001b[33mVector\u001b[39m(Numeric(5.0), Numeric(20.9)),\n",
       "\u001b[33m...\u001b[39m"
      ]
     },
     "execution_count": 2,
     "metadata": {},
     "output_type": "execute_result"
    }
   ],
   "source": [
    "val BASE_DATA_PATH = \"../../resources/data\"\n",
    "val swedishDataPath = s\"$BASE_DATA_PATH/7/swedish.csv\"\n",
    "\n",
    "val rawData = loadCsv(swedishDataPath)\n",
    "val numberOfRows = rawData.length\n",
    "val numberOfColumns = rawData.head.length\n",
    "println(s\"Number of rows in dataset: $numberOfRows\")\n",
    "println(s\"Number of columns in dataset: $numberOfColumns\")\n",
    "\n",
    "val data = (0 until numberOfColumns).toVector.foldLeft(rawData) { (d, i) => textColumnToNumeric(d, i)}"
   ]
  },
  {
   "cell_type": "markdown",
   "metadata": {},
   "source": [
    "## Calculate the Mean\n",
    "\n",
    "As we saw in the previous formula, we'll need to calculate the mean and variance in order to determine the values of the coefficients.\n",
    "\n",
    "Let's start by recalling the mean formula:\n",
    "\n",
    "$$ mean(x) = \\frac{\\sum_{i=1}^{N} x_i}{N}$$\n",
    "\n",
    "Good. Let's now proceed to implement it:"
   ]
  },
  {
   "cell_type": "code",
   "execution_count": 3,
   "metadata": {},
   "outputs": [
    {
     "data": {
      "text/plain": [
       "defined \u001b[32mfunction\u001b[39m \u001b[36mmean\u001b[39m"
      ]
     },
     "execution_count": 3,
     "metadata": {},
     "output_type": "execute_result"
    }
   ],
   "source": [
    "def mean(values: Vector[Numeric]): Double = values.foldLeft(0.0) { (accumulator, numericValue) =>\n",
    "  accumulator + numericValue.value\n",
    "} / values.length"
   ]
  },
  {
   "cell_type": "markdown",
   "metadata": {},
   "source": [
    "## Calculate the Variance\n",
    "\n",
    "Next, we must need to calculate the variance.\n",
    "\n",
    "Here is the formula:\n",
    "\n",
    "$$ variance(x) = {\\sum_{i=1}^{N}(x_i - mean(x))^2}$$\n",
    "\n",
    "Good. Let's now proceed to implement it:"
   ]
  },
  {
   "cell_type": "code",
   "execution_count": 4,
   "metadata": {},
   "outputs": [
    {
     "data": {
      "text/plain": [
       "defined \u001b[32mfunction\u001b[39m \u001b[36mvariance\u001b[39m"
      ]
     },
     "execution_count": 4,
     "metadata": {},
     "output_type": "execute_result"
    }
   ],
   "source": [
    "def variance(values: Vector[Numeric], mean: Double): Double = values.foldLeft(0.0) { (accumulator, numericValue) =>\n",
    "  accumulator + math.pow(numericValue.value - mean, 2)\n",
    "}"
   ]
  },
  {
   "cell_type": "markdown",
   "metadata": {},
   "source": [
    "Great. Now that we have proper functions to calculate both the mean and variance of a group of values, let's test them on a small, mock dataset:"
   ]
  },
  {
   "cell_type": "code",
   "execution_count": 5,
   "metadata": {},
   "outputs": [
    {
     "name": "stdout",
     "output_type": "stream",
     "text": [
      "X stats: mean=3.0 variance=10.0\n",
      "Y stats: mean=2.8 variance=8.8\n"
     ]
    },
    {
     "data": {
      "text/plain": [
       "\u001b[36mmockData\u001b[39m: \u001b[32mVector\u001b[39m[\u001b[32mVector\u001b[39m[\u001b[32mNumeric\u001b[39m]] = \u001b[33mVector\u001b[39m(\n",
       "  \u001b[33mVector\u001b[39m(\u001b[33mNumeric\u001b[39m(\u001b[32m1.0\u001b[39m), \u001b[33mNumeric\u001b[39m(\u001b[32m1.0\u001b[39m)),\n",
       "  \u001b[33mVector\u001b[39m(\u001b[33mNumeric\u001b[39m(\u001b[32m2.0\u001b[39m), \u001b[33mNumeric\u001b[39m(\u001b[32m3.0\u001b[39m)),\n",
       "  \u001b[33mVector\u001b[39m(\u001b[33mNumeric\u001b[39m(\u001b[32m4.0\u001b[39m), \u001b[33mNumeric\u001b[39m(\u001b[32m3.0\u001b[39m)),\n",
       "  \u001b[33mVector\u001b[39m(\u001b[33mNumeric\u001b[39m(\u001b[32m3.0\u001b[39m), \u001b[33mNumeric\u001b[39m(\u001b[32m2.0\u001b[39m)),\n",
       "  \u001b[33mVector\u001b[39m(\u001b[33mNumeric\u001b[39m(\u001b[32m5.0\u001b[39m), \u001b[33mNumeric\u001b[39m(\u001b[32m5.0\u001b[39m))\n",
       ")\n",
       "\u001b[36mx\u001b[39m: \u001b[32mVector\u001b[39m[\u001b[32mNumeric\u001b[39m] = \u001b[33mVector\u001b[39m(\u001b[33mNumeric\u001b[39m(\u001b[32m1.0\u001b[39m), \u001b[33mNumeric\u001b[39m(\u001b[32m2.0\u001b[39m), \u001b[33mNumeric\u001b[39m(\u001b[32m4.0\u001b[39m), \u001b[33mNumeric\u001b[39m(\u001b[32m3.0\u001b[39m), \u001b[33mNumeric\u001b[39m(\u001b[32m5.0\u001b[39m))\n",
       "\u001b[36my\u001b[39m: \u001b[32mVector\u001b[39m[\u001b[32mNumeric\u001b[39m] = \u001b[33mVector\u001b[39m(\u001b[33mNumeric\u001b[39m(\u001b[32m1.0\u001b[39m), \u001b[33mNumeric\u001b[39m(\u001b[32m3.0\u001b[39m), \u001b[33mNumeric\u001b[39m(\u001b[32m3.0\u001b[39m), \u001b[33mNumeric\u001b[39m(\u001b[32m2.0\u001b[39m), \u001b[33mNumeric\u001b[39m(\u001b[32m5.0\u001b[39m))\n",
       "\u001b[36mmeanX\u001b[39m: \u001b[32mDouble\u001b[39m = \u001b[32m3.0\u001b[39m\n",
       "\u001b[36mmeanY\u001b[39m: \u001b[32mDouble\u001b[39m = \u001b[32m2.8\u001b[39m\n",
       "\u001b[36mvarianceX\u001b[39m: \u001b[32mDouble\u001b[39m = \u001b[32m10.0\u001b[39m\n",
       "\u001b[36mvarianceY\u001b[39m: \u001b[32mDouble\u001b[39m = \u001b[32m8.8\u001b[39m"
      ]
     },
     "execution_count": 5,
     "metadata": {},
     "output_type": "execute_result"
    }
   ],
   "source": [
    "val mockData = Vector((1, 1), (2, 3), (4, 3), (3, 2), (5, 5)).map { case (x, y) => Vector(Numeric(x), Numeric(y)) }\n",
    "val x = selectColumn(mockData, 0).asInstanceOf[Vector[Numeric]]\n",
    "val y = selectColumn(mockData, 1).asInstanceOf[Vector[Numeric]]\n",
    "\n",
    "val meanX = mean(x)\n",
    "val meanY = mean(y)\n",
    "\n",
    "val varianceX = variance(x, meanX)\n",
    "val varianceY = variance(y, meanY)\n",
    "\n",
    "println(s\"X stats: mean=$meanX variance=$varianceX\")\n",
    "println(s\"Y stats: mean=$meanY variance=$varianceY\")"
   ]
  },
  {
   "cell_type": "markdown",
   "metadata": {},
   "source": [
    "## Calculate the Covariance\n",
    "\n",
    "Covariance is a generalization of correlation. \n",
    "\n",
    "While correlation measures the relationship between two variables, the covariance can measure the same relationship between two or more variables. \n",
    "\n",
    "Let's calculate it:"
   ]
  },
  {
   "cell_type": "code",
   "execution_count": 6,
   "metadata": {},
   "outputs": [
    {
     "data": {
      "text/plain": [
       "defined \u001b[32mfunction\u001b[39m \u001b[36mcovariance\u001b[39m"
      ]
     },
     "execution_count": 6,
     "metadata": {},
     "output_type": "execute_result"
    }
   ],
   "source": [
    "def covariance(x: Vector[Numeric], y: Vector[Numeric], meanX: Double, meanY: Double): Double = {\n",
    "  assert(x.length == y.length)\n",
    "\n",
    "  x.indices.foldLeft(0.0) { (accumulator, index) =>\n",
    "    accumulator + ((x(index).value - meanX) * (y(index).value - meanY))\n",
    "  }\n",
    "}"
   ]
  },
  {
   "cell_type": "markdown",
   "metadata": {},
   "source": [
    "Good. Let's test it on our mock dataset."
   ]
  },
  {
   "cell_type": "code",
   "execution_count": 7,
   "metadata": {},
   "outputs": [
    {
     "name": "stdout",
     "output_type": "stream",
     "text": [
      "covariance between X and Y = 8.0\n"
     ]
    },
    {
     "data": {
      "text/plain": [
       "\u001b[36mcov\u001b[39m: \u001b[32mDouble\u001b[39m = \u001b[32m8.0\u001b[39m"
      ]
     },
     "execution_count": 7,
     "metadata": {},
     "output_type": "execute_result"
    }
   ],
   "source": [
    "val cov = covariance(x, y, meanX, meanY)\n",
    "\n",
    "println(s\"covariance between X and Y = $cov\")\n"
   ]
  },
  {
   "cell_type": "markdown",
   "metadata": {},
   "source": [
    "## Coefficients\n",
    "\n",
    "We have all we need to calculate the coefficients. Let's remember the formulas:\n",
    "\n",
    "$$ b1 = \\frac{covariance(x, y)}{variance(x)}$$\n",
    "\n",
    "$$ b0 = mean(y)-b1mean(x) $$"
   ]
  },
  {
   "cell_type": "code",
   "execution_count": 8,
   "metadata": {},
   "outputs": [
    {
     "data": {
      "text/plain": [
       "defined \u001b[32mfunction\u001b[39m \u001b[36mcoefficients\u001b[39m"
      ]
     },
     "execution_count": 8,
     "metadata": {},
     "output_type": "execute_result"
    }
   ],
   "source": [
    "def coefficients(dataset: Dataset) = {\n",
    "  val x = selectColumn(dataset, 0).asInstanceOf[Vector[Numeric]]\n",
    "  val y = selectColumn(dataset, 1).asInstanceOf[Vector[Numeric]]\n",
    "\n",
    "  val xMean = mean(x)\n",
    "  val yMean = mean(y)\n",
    "\n",
    "  val b1 = covariance(x, y, xMean, yMean) / variance(x, xMean)\n",
    "  val b0 = yMean - b1 * xMean\n",
    "\n",
    "  (b0, b1)\n",
    "}"
   ]
  },
  {
   "cell_type": "markdown",
   "metadata": {},
   "source": [
    "Let's calculate the coefficients from the mock dataset:"
   ]
  },
  {
   "cell_type": "code",
   "execution_count": 9,
   "metadata": {},
   "outputs": [
    {
     "name": "stdout",
     "output_type": "stream",
     "text": [
      "Coefficients: B0=$b0, B1=$b1\n"
     ]
    },
    {
     "data": {
      "text/plain": [
       "\u001b[36mb0\u001b[39m: \u001b[32mDouble\u001b[39m = \u001b[32m0.39999999999999947\u001b[39m\n",
       "\u001b[36mb1\u001b[39m: \u001b[32mDouble\u001b[39m = \u001b[32m0.8\u001b[39m"
      ]
     },
     "execution_count": 9,
     "metadata": {},
     "output_type": "execute_result"
    }
   ],
   "source": [
    "val (b0, b1) = coefficients(mockData)\n",
    "\n",
    "println(\"Coefficients: B0=$b0, B1=$b1\")"
   ]
  },
  {
   "cell_type": "markdown",
   "metadata": {},
   "source": [
    "## Implementing Simple Linear Regression\n",
    "\n",
    "Now that we have a way to calculate the coefficients, we can implement a simple linear regression algorithm with just two simple instructions:"
   ]
  },
  {
   "cell_type": "code",
   "execution_count": 10,
   "metadata": {},
   "outputs": [
    {
     "data": {
      "text/plain": [
       "defined \u001b[32mfunction\u001b[39m \u001b[36msimpleLinearRegression\u001b[39m"
      ]
     },
     "execution_count": 10,
     "metadata": {},
     "output_type": "execute_result"
    }
   ],
   "source": [
    "def simpleLinearRegression(train: Dataset, test: Dataset) = {\n",
    "  // Training step: Determine coefficients.\n",
    "  val (b0, b1) = coefficients(train)\n",
    "\n",
    "  // Test step: Use coefficients to predict the value.  \n",
    "  // This decomposition works because simple linear regression only works by finding the relationship between TWO variables.\n",
    "  test.map { case Vector(x, _) => \n",
    "      Numeric(b0 + b1 * getNumericValue(x).get)\n",
    "  }\n",
    "}"
   ]
  },
  {
   "cell_type": "code",
   "execution_count": 11,
   "metadata": {},
   "outputs": [
    {
     "data": {
      "text/plain": [
       "\u001b[36mres10\u001b[39m: \u001b[32mDouble\u001b[39m = \u001b[32m2.0275875100994067\u001b[39m"
      ]
     },
     "execution_count": 11,
     "metadata": {},
     "output_type": "execute_result"
    }
   ],
   "source": [
    "evaluateAlgorithmUsingTrainTestSplit[Numeric](\n",
    "    mockData, \n",
    "    (train, test, parameters) => simpleLinearRegression(train, test), \n",
    "    Map.empty, \n",
    "    rootMeanSquaredError, \n",
    "    trainProportion=0.6)"
   ]
  },
  {
   "cell_type": "markdown",
   "metadata": {},
   "source": [
    "Good. It works. Let's now apply it to the Swedish Car Insurance dataset.\n",
    "\n",
    "We'll start by running a baseline model on it and then our freshly implemented simple linear regression algorithm and then we will compare their performance.\n",
    "\n",
    "As a baseline we will use a __zero rule regressor__."
   ]
  },
  {
   "cell_type": "code",
   "execution_count": 12,
   "metadata": {},
   "outputs": [
    {
     "name": "stdout",
     "output_type": "stream",
     "text": [
      "Zero Rule Regressor RMSE: 120.45498620710497\n"
     ]
    },
    {
     "data": {
      "text/plain": [
       "\u001b[36mbaselineRmse\u001b[39m: \u001b[32mDouble\u001b[39m = \u001b[32m120.45498620710497\u001b[39m"
      ]
     },
     "execution_count": 12,
     "metadata": {},
     "output_type": "execute_result"
    }
   ],
   "source": [
    "val baselineRmse = evaluateAlgorithmUsingTrainTestSplit[Numeric](\n",
    "        data, \n",
    "        (train, test, parameters) => zeroRuleRegressor(train, test), \n",
    "        Map.empty, \n",
    "        rootMeanSquaredError, \n",
    "        trainProportion=0.8)\n",
    "\n",
    "println(s\"Zero Rule Regressor RMSE: $baselineRmse\")"
   ]
  },
  {
   "cell_type": "code",
   "execution_count": 13,
   "metadata": {},
   "outputs": [
    {
     "name": "stdout",
     "output_type": "stream",
     "text": [
      "Simple Linear Regressor RMSE: 34.48536616564703\n"
     ]
    },
    {
     "data": {
      "text/plain": [
       "\u001b[36msimpleLinearRegressionRmse\u001b[39m: \u001b[32mDouble\u001b[39m = \u001b[32m34.48536616564703\u001b[39m"
      ]
     },
     "execution_count": 13,
     "metadata": {},
     "output_type": "execute_result"
    }
   ],
   "source": [
    "val simpleLinearRegressionRmse = evaluateAlgorithmUsingTrainTestSplit[Numeric](\n",
    "        data, \n",
    "        (train, test, parameters) => simpleLinearRegression(train, test), \n",
    "        Map.empty, \n",
    "        rootMeanSquaredError, \n",
    "        trainProportion=0.8)\n",
    "\n",
    "println(s\"Simple Linear Regressor RMSE: $simpleLinearRegressionRmse\")"
   ]
  },
  {
   "cell_type": "markdown",
   "metadata": {},
   "source": [
    "The performance gap is astonishing! \n",
    "\n",
    "As we can see, although SLR is a basic algorithm, it is very powerful for the right kind of problem!"
   ]
  }
 ],
 "metadata": {
  "kernelspec": {
   "display_name": "Scala",
   "language": "scala",
   "name": "scala"
  },
  "language_info": {
   "codemirror_mode": "text/x-scala",
   "file_extension": ".scala",
   "mimetype": "text/x-scala",
   "name": "scala211",
   "nbconvert_exporter": "script",
   "pygments_lexer": "scala",
   "version": "2.11.11"
  }
 },
 "nbformat": 4,
 "nbformat_minor": 2
}
