{
 "cells": [
  {
   "cell_type": "markdown",
   "metadata": {},
   "source": [
    "# Scale Machine Learning Data\n",
    "\n",
    "An important number of machine learning algorithms make assumptions about the scale of the data and their range of values.\n",
    "\n",
    "Popular algorithms such as **logistic** and **linear regression** put different weights on their parameters, so a scaling problem could really hurt their performance or learning process.\n",
    "\n",
    "Other more complex algorithms such as **artificial neural networks** tend to combine their inputs in non trivial ways. Hence, again, it is a good idea to put all inputs in a similar scale, which could also prevent problems such as exploding or vanishing gradients."
   ]
  },
  {
   "cell_type": "markdown",
   "metadata": {},
   "source": [
    "    "
   ]
  },
  {
   "cell_type": "code",
   "execution_count": 3,
   "metadata": {},
   "outputs": [
    {
     "name": "stdout",
     "output_type": "stream",
     "text": [
      "Compiling LoadCsv.sc\n"
     ]
    },
    {
     "name": "stderr",
     "output_type": "stream",
     "text": [
      "/media/jesus/ADATA HV100/Blog/toy-ml/src/main/scala/datasmarts/ml/toy/scripts/LoadCsv.sc:1: not found: value datasmarts\n",
      "import datasmarts.ml.toy.scripts.LoadCsv._\n",
      "       ^/media/jesus/ADATA HV100/Blog/toy-ml/src/main/scala/datasmarts/ml/toy/scripts/LoadCsv.sc:2: object github is not a member of package com\n",
      "import com.github.tototoshi.csv._\n",
      "           ^"
     ]
    },
    {
     "ename": "",
     "evalue": "",
     "output_type": "error",
     "traceback": [
      "Compilation Failed"
     ]
    }
   ],
   "source": [
    "import $file.^.datasmarts.ml.toy.scripts.LoadCsv"
   ]
  },
  {
   "cell_type": "code",
   "execution_count": null,
   "metadata": {
    "collapsed": true
   },
   "outputs": [],
   "source": []
  }
 ],
 "metadata": {
  "kernelspec": {
   "display_name": "Scala",
   "language": "scala",
   "name": "scala"
  },
  "language_info": {
   "codemirror_mode": "text/x-scala",
   "file_extension": ".scala",
   "mimetype": "text/x-scala",
   "name": "scala211",
   "nbconvert_exporter": "script",
   "pygments_lexer": "scala",
   "version": "2.11.11"
  }
 },
 "nbformat": 4,
 "nbformat_minor": 2
}
